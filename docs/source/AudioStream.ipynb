{
 "cells": [
  {
   "cell_type": "markdown",
   "metadata": {},
   "source": [
    "# AudioStream\n",
    "A [AudioStream](api.rst#ipywebrtc.webrtc.AudioStream) is similar to the VideoStream, but for audio only.\n",
    " "
   ]
  },
  {
   "cell_type": "code",
   "execution_count": null,
   "metadata": {},
   "outputs": [],
   "source": [
    "from ipywebrtc import AudioStream"
   ]
  },
  {
   "cell_type": "code",
   "execution_count": null,
   "metadata": {},
   "outputs": [],
   "source": [
    "audio = AudioStream.from_url('Big.Buck.Bunny.mp3')\n",
    "audio"
   ]
  },
  {
   "cell_type": "code",
   "execution_count": null,
   "metadata": {},
   "outputs": [],
   "source": [
    "audio.playing = False"
   ]
  },
  {
   "cell_type": "code",
   "execution_count": null,
   "metadata": {},
   "outputs": [],
   "source": []
  }
 ],
 "metadata": {
  "kernelspec": {
   "display_name": "Python 3 (ipykernel)",
   "language": "python",
   "name": "python3"
  },
  "language_info": {
   "codemirror_mode": {
    "name": "ipython",
    "version": 3
   },
   "file_extension": ".py",
   "mimetype": "text/x-python",
   "name": "python",
   "nbconvert_exporter": "python",
   "pygments_lexer": "ipython3",
   "version": "3.9.15"
  },
  "widgets": {
   "application/vnd.jupyter.widget-state+json": {
    "state": {
     "415ca567e9ba4ecb9eb2ecdbe20d44eb": {
      "model_module": "@jupyter-widgets/base",
      "model_module_version": "1.1.0",
      "model_name": "LayoutModel",
      "state": {}
     },
     "8ebb71af73bb42ec8ffff1ec33489544": {
      "model_module": "jupyter-webrtc",
      "model_module_version": "~0.5.0",
      "model_name": "AudioStreamModel",
      "state": {
       "audio": "IPY_MODEL_c88d9173c5c945b4a9b4a6bf9acb6f65",
       "layout": "IPY_MODEL_fc381f0634274e8481488fedc71706f4"
      }
     },
     "c88d9173c5c945b4a9b4a6bf9acb6f65": {
      "buffers": [
       {
        "data": "QmlnLkJ1Y2suQnVubnkubXAz",
        "encoding": "base64",
        "path": [
         "value"
        ]
       }
      ],
      "model_module": "@jupyter-widgets/controls",
      "model_module_version": "1.4.0",
      "model_name": "AudioModel",
      "state": {
       "format": "url",
       "layout": "IPY_MODEL_415ca567e9ba4ecb9eb2ecdbe20d44eb",
       "value": {}
      }
     },
     "fc381f0634274e8481488fedc71706f4": {
      "model_module": "@jupyter-widgets/base",
      "model_module_version": "1.1.0",
      "model_name": "LayoutModel",
      "state": {}
     }
    },
    "version_major": 2,
    "version_minor": 0
   }
  }
 },
 "nbformat": 4,
 "nbformat_minor": 2
}
