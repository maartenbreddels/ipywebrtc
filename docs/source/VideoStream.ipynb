{
 "cells": [
  {
   "cell_type": "markdown",
   "metadata": {},
   "source": [
    "# VideoStream\n",
    "A [VideoStream](api.rst#ipywebrtc.webrtc.VideoStream) is a [MediaStream](api.rst#ipywebrtc.webrtc.MediaStream) from an attached video file or url."
   ]
  },
  {
   "cell_type": "code",
   "execution_count": null,
   "metadata": {},
   "outputs": [],
   "source": [
    "from ipywebrtc import VideoStream"
   ]
  },
  {
   "cell_type": "markdown",
   "metadata": {},
   "source": [
    "## Local file\n",
    "You can create a video stream from a local file, note that the content of the file is embedded in the widget, meaning your notebook file can become quite large."
   ]
  },
  {
   "cell_type": "code",
   "execution_count": null,
   "metadata": {},
   "outputs": [],
   "source": [
    "# commented out since it increases the size of the notebook a lot\n",
    "# video = VideoStream.from_file('./Big.Buck.Bunny.mp4')\n",
    "# video"
   ]
  },
  {
   "cell_type": "code",
   "execution_count": null,
   "metadata": {},
   "outputs": [],
   "source": [
    "# video"
   ]
  },
  {
   "cell_type": "markdown",
   "metadata": {},
   "source": [
    "## URL\n",
    "A URL is also supported, but it must respect the same-origin policy (e.g. it must be hosted from the same server as the Javascript is executed from)."
   ]
  },
  {
   "cell_type": "code",
   "execution_count": null,
   "metadata": {},
   "outputs": [],
   "source": [
    "# video2 = VideoStream.from_url('http://localhost:8888/path_to_your_hosted_file.mp4')\n",
    "video2 = VideoStream.from_url('./Big.Buck.Bunny.mp4')\n",
    "video2"
   ]
  },
  {
   "cell_type": "markdown",
   "metadata": {},
   "source": [
    "In this example, video2 does not include the data of the video itself, only the url."
   ]
  },
  {
   "cell_type": "markdown",
   "metadata": {},
   "source": [
    "## Download\n",
    "For convenience, if a video is not same-origin, the below code will download it and put the content of the file in the widget (note again that the notebook will be large)."
   ]
  },
  {
   "cell_type": "code",
   "execution_count": null,
   "metadata": {},
   "outputs": [],
   "source": [
    "# commented out since it increases the size of the notebook a lot\n",
    "# video3 = VideoStream.from_download('https://webrtc.github.io/samples/src/video/chrome.webm')\n",
    "# video3"
   ]
  },
  {
   "cell_type": "markdown",
   "metadata": {},
   "source": [
    "## Controlling\n",
    "You can control a video for intance by linking a ToggleButton to a VideoStream:"
   ]
  },
  {
   "cell_type": "code",
   "execution_count": null,
   "metadata": {},
   "outputs": [],
   "source": [
    "import ipywidgets as widgets\n",
    "\n",
    "play_button = widgets.ToggleButton(description=\"Play\")\n",
    "widgets.jslink((play_button, 'value'), (video2, 'playing'))\n",
    "widgets.VBox(children=[video2, play_button])"
   ]
  },
  {
   "cell_type": "code",
   "execution_count": null,
   "metadata": {},
   "outputs": [],
   "source": []
  }
 ],
 "metadata": {
  "kernelspec": {
   "display_name": "Python 3 (ipykernel)",
   "language": "python",
   "name": "python3"
  },
  "language_info": {
   "codemirror_mode": {
    "name": "ipython",
    "version": 3
   },
   "file_extension": ".py",
   "mimetype": "text/x-python",
   "name": "python",
   "nbconvert_exporter": "python",
   "pygments_lexer": "ipython3",
   "version": "3.9.15"
  },
  "widgets": {
   "application/vnd.jupyter.widget-state+json": {
    "state": {
     "1b5c7b05708e4fdb880c89c114436d93": {
      "model_module": "@jupyter-widgets/base",
      "model_module_version": "1.1.0",
      "model_name": "LayoutModel",
      "state": {}
     },
     "24f2cb7d643f4e0b83b8e931d8945bb6": {
      "model_module": "@jupyter-widgets/base",
      "model_module_version": "1.1.0",
      "model_name": "LayoutModel",
      "state": {}
     },
     "4760ed2c94a84d36a50672c323838103": {
      "model_module": "@jupyter-widgets/base",
      "model_module_version": "1.1.0",
      "model_name": "LayoutModel",
      "state": {}
     },
     "639d3792f57b4359a806aa51e9d3753f": {
      "model_module": "@jupyter-widgets/base",
      "model_module_version": "1.1.0",
      "model_name": "LayoutModel",
      "state": {}
     },
     "7bf8b6d898cd46e8a8a36c1ac7ed0ee8": {
      "model_module": "@jupyter-widgets/controls",
      "model_module_version": "1.4.0",
      "model_name": "DescriptionStyleModel",
      "state": {
       "description_width": ""
      }
     },
     "bf46f8ace59d493fb9a9d9914ae8a2b7": {
      "buffers": [
       {
        "data": "Li9CaWcuQnVjay5CdW5ueS5tcDQ=",
        "encoding": "base64",
        "path": [
         "value"
        ]
       }
      ],
      "model_module": "@jupyter-widgets/controls",
      "model_module_version": "1.4.0",
      "model_name": "VideoModel",
      "state": {
       "format": "url",
       "layout": "IPY_MODEL_4760ed2c94a84d36a50672c323838103",
       "value": {}
      }
     },
     "c4cf93ca86854231809a00fd92e48e2e": {
      "model_module": "@jupyter-widgets/controls",
      "model_module_version": "1.4.0",
      "model_name": "VBoxModel",
      "state": {
       "children": [
        "IPY_MODEL_e51d8a045d6645e9b5b2f56ad9dafa80",
        "IPY_MODEL_c641af9e19c5487d82bb4da9cdd88e40"
       ],
       "layout": "IPY_MODEL_639d3792f57b4359a806aa51e9d3753f"
      }
     },
     "c641af9e19c5487d82bb4da9cdd88e40": {
      "model_module": "@jupyter-widgets/controls",
      "model_module_version": "1.4.0",
      "model_name": "ToggleButtonModel",
      "state": {
       "description": "Play",
       "layout": "IPY_MODEL_24f2cb7d643f4e0b83b8e931d8945bb6",
       "style": "IPY_MODEL_7bf8b6d898cd46e8a8a36c1ac7ed0ee8",
       "value": true
      }
     },
     "e3dfee45f05c41ce8304cd6db8004c9b": {
      "model_module": "@jupyter-widgets/controls",
      "model_module_version": "1.4.0",
      "model_name": "LinkModel",
      "state": {
       "source": [
        "IPY_MODEL_c641af9e19c5487d82bb4da9cdd88e40",
        "value"
       ],
       "target": [
        "IPY_MODEL_e51d8a045d6645e9b5b2f56ad9dafa80",
        "playing"
       ]
      }
     },
     "e51d8a045d6645e9b5b2f56ad9dafa80": {
      "model_module": "jupyter-webrtc",
      "model_module_version": "~0.5.0",
      "model_name": "VideoStreamModel",
      "state": {
       "layout": "IPY_MODEL_1b5c7b05708e4fdb880c89c114436d93",
       "video": "IPY_MODEL_bf46f8ace59d493fb9a9d9914ae8a2b7"
      }
     }
    },
    "version_major": 2,
    "version_minor": 0
   }
  }
 },
 "nbformat": 4,
 "nbformat_minor": 2
}
