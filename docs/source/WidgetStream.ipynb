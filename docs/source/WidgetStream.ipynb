{
 "cells": [
  {
   "cell_type": "markdown",
   "metadata": {},
   "source": [
    "# WidgetStream\n",
    "A [WidgetStream](api.rst#ipywebrtc.webrtc.VideoStream) creates a [MediaStream](api.rst#ipywebrtc.webrtc.MediaStream) out of any widget."
   ]
  },
  {
   "cell_type": "code",
   "execution_count": null,
   "metadata": {},
   "outputs": [],
   "source": [
    "from ipywebrtc import WidgetStream, VideoStream"
   ]
  },
  {
   "cell_type": "markdown",
   "metadata": {},
   "source": [
    "### Example with pythreejs: streaming of a webgl canvas"
   ]
  },
  {
   "cell_type": "code",
   "execution_count": null,
   "metadata": {},
   "outputs": [],
   "source": [
    "from pythreejs import Mesh, SphereGeometry, MeshLambertMaterial, PerspectiveCamera, DirectionalLight, Scene, AmbientLight, Renderer, OrbitControls\n",
    "ball = Mesh(\n",
    "    geometry=SphereGeometry(radius=1), \n",
    "    material=MeshLambertMaterial(color='red'),\n",
    "    position=[2, 1, 0]\n",
    ")\n",
    "\n",
    "c = PerspectiveCamera(\n",
    "    position=[0, 5, 5], up=[0, 1, 0],\n",
    "    children=[DirectionalLight(color='white', position=[3, 5, 1], intensity=0.5)]\n",
    ")\n",
    "\n",
    "scene = Scene(children=[ball, c, AmbientLight(color='#777777')])\n",
    "\n",
    "renderer = Renderer(\n",
    "    camera=c, \n",
    "    scene=scene, \n",
    "    controls=[OrbitControls(controlling=c)]\n",
    ")\n",
    "\n",
    "renderer"
   ]
  },
  {
   "cell_type": "code",
   "execution_count": null,
   "metadata": {},
   "outputs": [],
   "source": [
    "# the webgl_stream will be updated after the scene has changed (so drag the above ball around if nothing happens)\n",
    "webgl_stream = WidgetStream(widget=renderer)\n",
    "webgl_stream"
   ]
  },
  {
   "cell_type": "code",
   "execution_count": null,
   "metadata": {},
   "outputs": [],
   "source": [
    "# You can limit the fps\n",
    "webgl_stream2 = WidgetStream(widget=renderer, max_fps=5)\n",
    "webgl_stream2"
   ]
  },
  {
   "cell_type": "markdown",
   "metadata": {},
   "source": [
    "### Example with ipywidgets: streaming of a slider widget"
   ]
  },
  {
   "cell_type": "code",
   "execution_count": null,
   "metadata": {},
   "outputs": [],
   "source": [
    "from ipywidgets import FloatSlider\n",
    "slider = FloatSlider(\n",
    "    value=7.5,\n",
    "    step=0.1,\n",
    "    description='Test:',\n",
    "    disabled=False,\n",
    "    continuous_update=False,\n",
    "    orientation='horizontal',\n",
    "    readout=True,\n",
    "    readout_format='.1f',\n",
    ")\n",
    "\n",
    "slider"
   ]
  },
  {
   "cell_type": "code",
   "execution_count": null,
   "metadata": {},
   "outputs": [],
   "source": [
    "widget_stream = WidgetStream(widget=slider, max_fps=1)\n",
    "widget_stream"
   ]
  },
  {
   "cell_type": "code",
   "execution_count": null,
   "metadata": {},
   "outputs": [],
   "source": [
    "# Close the stream\n",
    "widget_stream.close()"
   ]
  },
  {
   "cell_type": "markdown",
   "metadata": {},
   "source": [
    "### Example with ipyleaflet: streaming of a map widget"
   ]
  },
  {
   "cell_type": "code",
   "execution_count": null,
   "metadata": {},
   "outputs": [],
   "source": [
    "from ipyleaflet import Map\n",
    "m = Map(center=(46, 14), zoom=5)\n",
    "m"
   ]
  },
  {
   "cell_type": "code",
   "execution_count": null,
   "metadata": {},
   "outputs": [],
   "source": [
    "map_stream = WidgetStream(widget=m, max_fps=1)\n",
    "map_stream"
   ]
  },
  {
   "cell_type": "code",
   "execution_count": null,
   "metadata": {},
   "outputs": [],
   "source": [
    "map_stream.close()"
   ]
  },
  {
   "cell_type": "code",
   "execution_count": null,
   "metadata": {},
   "outputs": [],
   "source": []
  }
 ],
 "metadata": {
  "kernelspec": {
   "display_name": "Python 3 (ipykernel)",
   "language": "python",
   "name": "python3"
  },
  "language_info": {
   "codemirror_mode": {
    "name": "ipython",
    "version": 3
   },
   "file_extension": ".py",
   "mimetype": "text/x-python",
   "name": "python",
   "nbconvert_exporter": "python",
   "pygments_lexer": "ipython3",
   "version": "3.9.15"
  },
  "widgets": {
   "application/vnd.jupyter.widget-state+json": {
    "state": {
     "109ade8e-b78c-48cc-aa51-2c3812df170b": {
      "model_module": "jupyter-threejs",
      "model_module_version": "1.0.0",
      "model_name": "OrthographicCameraModel",
      "state": {
       "bottom": -5,
       "far": 500,
       "left": -5,
       "near": 0.5,
       "projectionMatrix": [
        0.2,
        0,
        0,
        0,
        0,
        0.2,
        0,
        0,
        0,
        0,
        -0.004004004004004004,
        0,
        0,
        0,
        -1.002002002002002,
        1
       ],
       "right": 5,
       "top": 5
      }
     },
     "1930066abf1a4737853a818357f6f4fa": {
      "model_module": "jupyter-threejs",
      "model_module_version": "~1.0.0",
      "model_name": "WebGLShadowMapModel",
      "state": {
       "_model_module_version": "~1.0.0",
       "_view_module": null,
       "_view_module_version": ""
      }
     },
     "1e2f74d5cafd4e88b8433e262b78c9bd": {
      "model_module": "@jupyter-widgets/base",
      "model_module_version": "1.1.0",
      "model_name": "LayoutModel",
      "state": {}
     },
     "25940fd46c4946c78f7d1cbad3e1f3ac": {
      "model_module": "jupyter-threejs",
      "model_module_version": "~1.0.0",
      "model_name": "MeshModel",
      "state": {
       "_model_module_version": "~1.0.0",
       "_view_module": null,
       "_view_module_version": "",
       "geometry": "IPY_MODEL_d3e64abef4e74223883fcbe48916eea3",
       "material": "IPY_MODEL_e45f25471f254454a8f4a77917f9c14e",
       "morphTargetInfluences": [],
       "position": [
        2,
        1,
        0
       ]
      }
     },
     "293f0baea69a4cf28525c7c8d15372f5": {
      "model_module": "jupyter-webrtc",
      "model_module_version": "~0.5.0",
      "model_name": "WidgetStreamModel",
      "state": {
       "layout": "IPY_MODEL_726b91759b8f42c1aa492b1a6842e5e9",
       "widget": "IPY_MODEL_514d3b9e1a8045fda1692016147bf3e2"
      }
     },
     "2d3f398bee5b4621ac3cb455990af796": {
      "model_module": "@jupyter-widgets/base",
      "model_module_version": "1.1.0",
      "model_name": "LayoutModel",
      "state": {}
     },
     "3216f8d281274204b50be2e3b8811fbc": {
      "model_module": "jupyter-threejs",
      "model_module_version": "~1.0.0",
      "model_name": "DirectionalLightModel",
      "state": {
       "_model_module_version": "~1.0.0",
       "_view_module": null,
       "_view_module_version": "",
       "color": "white",
       "intensity": 0.5,
       "matrixWorldNeedsUpdate": true,
       "position": [
        3,
        5,
        1
       ],
       "shadow": "IPY_MODEL_fcb18619-d219-43ee-99e6-64cc337c7f5f",
       "target": "IPY_MODEL_9cfba469-6b29-445b-bb05-6435e254755f"
      }
     },
     "3fd1abc25380487e87dfcebe5ab2704d": {
      "model_module": "@jupyter-widgets/base",
      "model_module_version": "1.1.0",
      "model_name": "LayoutModel",
      "state": {}
     },
     "43825c3088d847fca6afd8116b8c71a4": {
      "model_module": "jupyter-webrtc",
      "model_module_version": "~0.5.0",
      "model_name": "WidgetStreamModel",
      "state": {
       "layout": "IPY_MODEL_e38784e437b34a70824b64c978002287",
       "max_fps": 5,
       "widget": "IPY_MODEL_514d3b9e1a8045fda1692016147bf3e2"
      }
     },
     "4c5df316e9b84eeda8a6ef27e64580eb": {
      "model_module": "jupyter-threejs",
      "model_module_version": "~1.0.0",
      "model_name": "OrbitControlsModel",
      "state": {
       "_model_module_version": "~1.0.0",
       "_view_module": null,
       "_view_module_version": "",
       "controlling": "IPY_MODEL_a1d408d4daf54e51bd57c588dd47e5d7",
       "maxAzimuthAngle": "inf",
       "maxDistance": "inf",
       "maxZoom": "inf",
       "minAzimuthAngle": "-inf"
      }
     },
     "514d3b9e1a8045fda1692016147bf3e2": {
      "model_module": "jupyter-threejs",
      "model_module_version": "~1.0.0",
      "model_name": "RendererModel",
      "state": {
       "_model_module_version": "~1.0.0",
       "_view_module_version": "~1.0.0",
       "camera": "IPY_MODEL_a1d408d4daf54e51bd57c588dd47e5d7",
       "controls": [
        "IPY_MODEL_4c5df316e9b84eeda8a6ef27e64580eb"
       ],
       "layout": "IPY_MODEL_1e2f74d5cafd4e88b8433e262b78c9bd",
       "scene": "IPY_MODEL_951dcd1a1b6342a0a6c4180068650fe3",
       "shadowMap": "IPY_MODEL_1930066abf1a4737853a818357f6f4fa"
      }
     },
     "52d6a87a9fa741d88e83fcb781e2be93": {
      "model_module": "jupyter-webrtc",
      "model_module_version": "~0.5.0",
      "model_name": "WidgetStreamModel",
      "state": {
       "_html2canvas_start_streaming": true,
       "layout": "IPY_MODEL_2d3f398bee5b4621ac3cb455990af796",
       "max_fps": 1,
       "widget": "IPY_MODEL_e695af4444cd459eba49e2c91b92e790"
      }
     },
     "726b91759b8f42c1aa492b1a6842e5e9": {
      "model_module": "@jupyter-widgets/base",
      "model_module_version": "1.1.0",
      "model_name": "LayoutModel",
      "state": {}
     },
     "7e3c2100a5e8487da289a0d1450b7a6a": {
      "model_module": "@jupyter-widgets/base",
      "model_module_version": "1.1.0",
      "model_name": "LayoutModel",
      "state": {}
     },
     "951dcd1a1b6342a0a6c4180068650fe3": {
      "model_module": "jupyter-threejs",
      "model_module_version": "~1.0.0",
      "model_name": "SceneModel",
      "state": {
       "_model_module_version": "~1.0.0",
       "_view_module": null,
       "_view_module_version": "",
       "children": [
        "IPY_MODEL_25940fd46c4946c78f7d1cbad3e1f3ac",
        "IPY_MODEL_a1d408d4daf54e51bd57c588dd47e5d7",
        "IPY_MODEL_ca6ae28e15df4d8a903ed1b784cdfb0c"
       ]
      }
     },
     "9965b1e0bf9048f7acd0f006407ca64c": {
      "model_module": "@jupyter-widgets/controls",
      "model_module_version": "1.4.0",
      "model_name": "SliderStyleModel",
      "state": {
       "description_width": ""
      }
     },
     "9cfba469-6b29-445b-bb05-6435e254755f": {
      "model_module": "jupyter-threejs",
      "model_module_version": "1.0.0",
      "model_name": "Object3DModel",
      "state": {}
     },
     "a1d408d4daf54e51bd57c588dd47e5d7": {
      "model_module": "jupyter-threejs",
      "model_module_version": "~1.0.0",
      "model_name": "PerspectiveCameraModel",
      "state": {
       "_model_module_version": "~1.0.0",
       "_view_module": null,
       "_view_module_version": "",
       "children": [
        "IPY_MODEL_3216f8d281274204b50be2e3b8811fbc"
       ],
       "position": [
        3.428269905145012,
        5.970300016676451,
        1.613221363716157
       ],
       "projectionMatrix": [
        2.1445069205095586,
        0,
        0,
        0,
        0,
        2.1445069205095586,
        0,
        0,
        0,
        0,
        -1.00010000500025,
        -1,
        0,
        0,
        -0.200010000500025,
        0
       ],
       "quaternion": [
        -0.406758080257275,
        0.46954859978658847,
        0.25813652716327806,
        0.7398902012649935
       ]
      }
     },
     "bc280c561e0e4b46ab522a0dfa7eaf9f": {
      "model_module": "jupyter-leaflet",
      "model_module_version": "~0.8.1",
      "model_name": "LeafletTileLayerModel",
      "state": {
       "_model_module_version": "~0.8.1",
       "_view_count": null,
       "_view_module_version": "~0.8.1",
       "base": true,
       "max_zoom": 19,
       "min_zoom": 1,
       "options": [
        "attribution",
        "detect_retina",
        "max_zoom",
        "min_zoom",
        "tile_size"
       ]
      }
     },
     "ca6ae28e15df4d8a903ed1b784cdfb0c": {
      "model_module": "jupyter-threejs",
      "model_module_version": "~1.0.0",
      "model_name": "AmbientLightModel",
      "state": {
       "_model_module_version": "~1.0.0",
       "_view_module": null,
       "_view_module_version": "",
       "color": "#777777"
      }
     },
     "cafd61f36ac5421bbe1671ad4af98b82": {
      "model_module": "@jupyter-widgets/base",
      "model_module_version": "1.1.0",
      "model_name": "LayoutModel",
      "state": {}
     },
     "d3e64abef4e74223883fcbe48916eea3": {
      "model_module": "jupyter-threejs",
      "model_module_version": "~1.0.0",
      "model_name": "SphereGeometryModel",
      "state": {
       "_model_module_version": "~1.0.0",
       "_view_module": null,
       "_view_module_version": ""
      }
     },
     "ddd92463d77f4a3f9340f7d2fd8e95d4": {
      "model_module": "@jupyter-widgets/controls",
      "model_module_version": "1.4.0",
      "model_name": "FloatSliderModel",
      "state": {
       "continuous_update": false,
       "description": "Test:",
       "layout": "IPY_MODEL_cafd61f36ac5421bbe1671ad4af98b82",
       "readout_format": ".1f",
       "step": 0.1,
       "style": "IPY_MODEL_9965b1e0bf9048f7acd0f006407ca64c",
       "value": 7.5
      }
     },
     "e38784e437b34a70824b64c978002287": {
      "model_module": "@jupyter-widgets/base",
      "model_module_version": "1.1.0",
      "model_name": "LayoutModel",
      "state": {}
     },
     "e45f25471f254454a8f4a77917f9c14e": {
      "model_module": "jupyter-threejs",
      "model_module_version": "~1.0.0",
      "model_name": "MeshLambertMaterialModel",
      "state": {
       "_model_module_version": "~1.0.0",
       "_view_module": null,
       "_view_module_version": "",
       "color": "red"
      }
     },
     "e695af4444cd459eba49e2c91b92e790": {
      "model_module": "jupyter-leaflet",
      "model_module_version": "~0.8.1",
      "model_name": "LeafletMapModel",
      "state": {
       "_dom_classes": [],
       "_model_module_version": "~0.8.1",
       "_view_count": null,
       "_view_module_version": "~0.8.1",
       "basemap": {
        "attribution": "Map data (c) <a href=\"https://openstreetmap.org\">OpenStreetMap</a> contributors",
        "max_zoom": 19,
        "url": "https://{s}.tile.openstreetmap.org/{z}/{x}/{y}.png"
       },
       "center": [
        46,
        14
       ],
       "east": 35.55175781250001,
       "layers": [
        "IPY_MODEL_bc280c561e0e4b46ab522a0dfa7eaf9f"
       ],
       "layout": "IPY_MODEL_3fd1abc25380487e87dfcebe5ab2704d",
       "modisdate": "yesterday",
       "north": 51.781435604431195,
       "options": [
        "attribution_control",
        "basemap",
        "bounce_at_zoom_limits",
        "box_zoom",
        "center",
        "close_popup_on_click",
        "double_click_zoom",
        "dragging",
        "inertia",
        "inertia_deceleration",
        "inertia_max_speed",
        "keyboard",
        "keyboard_pan_offset",
        "keyboard_zoom_offset",
        "max_zoom",
        "min_zoom",
        "scroll_wheel_zoom",
        "tap",
        "tap_tolerance",
        "touch_zoom",
        "world_copy_jump",
        "zoom",
        "zoom_animation_threshold",
        "zoom_control",
        "zoom_start"
       ],
       "south": 39.57182223734374,
       "west": -7.558593750000001,
       "zoom": 5
      }
     },
     "ebaaab3b4ecb4dc7a8f509e599bc82ad": {
      "model_module": "jupyter-webrtc",
      "model_module_version": "~0.5.0",
      "model_name": "WidgetStreamModel",
      "state": {
       "_html2canvas_start_streaming": true,
       "layout": "IPY_MODEL_7e3c2100a5e8487da289a0d1450b7a6a",
       "max_fps": 1,
       "widget": "IPY_MODEL_ddd92463d77f4a3f9340f7d2fd8e95d4"
      }
     },
     "fcb18619-d219-43ee-99e6-64cc337c7f5f": {
      "model_module": "jupyter-threejs",
      "model_module_version": "1.0.0",
      "model_name": "DirectionalLightShadowModel",
      "state": {
       "camera": "IPY_MODEL_109ade8e-b78c-48cc-aa51-2c3812df170b"
      }
     }
    },
    "version_major": 2,
    "version_minor": 0
   }
  }
 },
 "nbformat": 4,
 "nbformat_minor": 2
}
