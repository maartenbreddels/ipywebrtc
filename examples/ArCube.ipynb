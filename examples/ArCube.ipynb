{
 "cells": [
  {
   "cell_type": "code",
   "execution_count": null,
   "id": "e4530313-3a49-45c0-a2fc-f2c5f527d3da",
   "metadata": {},
   "outputs": [],
   "source": [
    "from ipywebrtc import ArCube\n",
    "from ipywidgets import FloatSlider, IntSlider, VBox"
   ]
  },
  {
   "cell_type": "code",
   "execution_count": null,
   "id": "3e075776-7c56-4111-9957-6bf0bb48880e",
   "metadata": {},
   "outputs": [],
   "source": [
    "fox = \"https://github.khronos.org/glTF-Sample-Viewer-Release/assets/models/Models/Fox/glTF/Fox.gltf\"\n",
    "duck = \"https://github.khronos.org/glTF-Sample-Viewer-Release/assets/models/Models/Duck/glTF/Duck.gltf\"\n",
    "helmet = \"https://github.khronos.org/glTF-Sample-Viewer-Release/assets/models/Models/DamagedHelmet/glTF/DamagedHelmet.gltf\"\n",
    "brain_stem=\"https://github.khronos.org/glTF-Sample-Viewer-Release/assets/models/Models/BrainStem/glTF/BrainStem.gltf\"\n",
    "duck_scale = 1.0\n",
    "duck_position = [0, -1, 0]\n",
    "helmet_position=[0, 0, 0]"
   ]
  },
  {
   "cell_type": "code",
   "execution_count": null,
   "id": "ec5a3bb2-c748-4ffb-8a9f-913f79ffe6a1",
   "metadata": {},
   "outputs": [],
   "source": [
    "mc = ArCube(model_url = duck)"
   ]
  },
  {
   "cell_type": "code",
   "execution_count": null,
   "id": "0fecaa2a-bec1-4584-846d-1914e7c2f885",
   "metadata": {},
   "outputs": [],
   "source": [
    "mc"
   ]
  },
  {
   "cell_type": "code",
   "execution_count": null,
   "id": "4cdda725-7dce-4ea9-b73c-2e361f0be40a",
   "metadata": {},
   "outputs": [],
   "source": [
    "mc.model_url=duck"
   ]
  },
  {
   "cell_type": "code",
   "execution_count": null,
   "id": "be7eb171-c718-4d03-90dd-c33797629de4",
   "metadata": {},
   "outputs": [],
   "source": [
    "mc.model_url=brain_stem"
   ]
  },
  {
   "cell_type": "code",
   "execution_count": null,
   "id": "0a2d48b3-eb94-4a00-bcc3-83db0403be86",
   "metadata": {},
   "outputs": [],
   "source": [
    "mc.stage_color=\"#1a1b26\""
   ]
  },
  {
   "cell_type": "code",
   "execution_count": null,
   "id": "0dda1b4c-b10e-4df5-ac00-5ad8241e25c4",
   "metadata": {},
   "outputs": [],
   "source": [
    "mc.model_url=helmet\n",
    "mc.position=helmet_position"
   ]
  },
  {
   "cell_type": "code",
   "execution_count": null,
   "id": "8df08289-e45c-4d37-ba6f-c0b92de442da",
   "metadata": {},
   "outputs": [],
   "source": [
    "mc.show_stage = False"
   ]
  },
  {
   "cell_type": "code",
   "execution_count": null,
   "id": "5e4cadbb-fa05-4ce7-97d3-cef9f0e4b7bf",
   "metadata": {},
   "outputs": [],
   "source": [
    "scale_slider = FloatSlider(value=1.0, min=0.5, max=3.0, step=0.5, description='Scale:')\n",
    "y_slider = IntSlider(value=0,min=-5, max=5, step=1, description='Y position:')\n",
    "\n",
    "def handle_scale_slider_change(change):\n",
    "    mc.scale = change.new\n",
    "def handle_y_slider_change(change):\n",
    "    mc.position = [0, change.new, 0]\n",
    "\n",
    "scale_slider.observe(handle_scale_slider_change, names='value')\n",
    "y_slider.observe(handle_y_slider_change, names='value')\n",
    "\n",
    "VBox([scale_slider, y_slider])"
   ]
  },
  {
   "cell_type": "code",
   "execution_count": null,
   "id": "448627fb",
   "metadata": {},
   "outputs": [],
   "source": [
    "mc"
   ]
  },
  {
   "cell_type": "code",
   "execution_count": null,
   "id": "5be8fe65-1179-4697-97d7-ede9a97af1d5",
   "metadata": {},
   "outputs": [],
   "source": [
    "mc.model_url=brain_stem"
   ]
  },
  {
   "cell_type": "code",
   "execution_count": null,
   "id": "1b747f66-a787-420b-a550-3492a7258b12",
   "metadata": {},
   "outputs": [],
   "source": [
    "mc"
   ]
  },
  {
   "cell_type": "code",
   "execution_count": null,
   "id": "0340e014-d62f-4698-9725-2562111a198d",
   "metadata": {},
   "outputs": [],
   "source": []
  }
 ],
 "metadata": {
  "kernelspec": {
   "display_name": "Python 3 (ipykernel)",
   "language": "python",
   "name": "python3"
  },
  "language_info": {
   "codemirror_mode": {
    "name": "ipython",
    "version": 3
   },
   "file_extension": ".py",
   "mimetype": "text/x-python",
   "name": "python",
   "nbconvert_exporter": "python",
   "pygments_lexer": "ipython3",
   "version": "3.11.7"
  }
 },
 "nbformat": 4,
 "nbformat_minor": 5
}
